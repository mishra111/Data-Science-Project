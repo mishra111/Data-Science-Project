{
 "cells": [
  {
   "cell_type": "code",
   "execution_count": 1,
   "metadata": {},
   "outputs": [],
   "source": [
    "import numpy as np\n",
    "import pandas as pd\n",
    "import matplotlib.pyplot as plt\n",
    "import seaborn as sns\n",
    "%matplotlib inline"
   ]
  },
  {
   "cell_type": "code",
   "execution_count": 2,
   "metadata": {},
   "outputs": [
    {
     "data": {
      "text/html": [
       "<div>\n",
       "<style scoped>\n",
       "    .dataframe tbody tr th:only-of-type {\n",
       "        vertical-align: middle;\n",
       "    }\n",
       "\n",
       "    .dataframe tbody tr th {\n",
       "        vertical-align: top;\n",
       "    }\n",
       "\n",
       "    .dataframe thead th {\n",
       "        text-align: right;\n",
       "    }\n",
       "</style>\n",
       "<table border=\"1\" class=\"dataframe\">\n",
       "  <thead>\n",
       "    <tr style=\"text-align: right;\">\n",
       "      <th></th>\n",
       "      <th>Quarterly_Period</th>\n",
       "      <th>Year</th>\n",
       "      <th>Locality</th>\n",
       "      <th>Lower price Range</th>\n",
       "      <th>Upper price Range</th>\n",
       "      <th>Average Price</th>\n",
       "    </tr>\n",
       "  </thead>\n",
       "  <tbody>\n",
       "    <tr>\n",
       "      <th>0</th>\n",
       "      <td>2</td>\n",
       "      <td>2019</td>\n",
       "      <td>Andheri</td>\n",
       "      <td>12845.0</td>\n",
       "      <td>22330.0</td>\n",
       "      <td>17588.0</td>\n",
       "    </tr>\n",
       "    <tr>\n",
       "      <th>1</th>\n",
       "      <td>1</td>\n",
       "      <td>2019</td>\n",
       "      <td>Andheri</td>\n",
       "      <td>13752.0</td>\n",
       "      <td>22496.0</td>\n",
       "      <td>18124.0</td>\n",
       "    </tr>\n",
       "    <tr>\n",
       "      <th>2</th>\n",
       "      <td>4</td>\n",
       "      <td>2018</td>\n",
       "      <td>Andheri</td>\n",
       "      <td>13409.0</td>\n",
       "      <td>23106.0</td>\n",
       "      <td>18257.0</td>\n",
       "    </tr>\n",
       "    <tr>\n",
       "      <th>3</th>\n",
       "      <td>3</td>\n",
       "      <td>2018</td>\n",
       "      <td>Andheri</td>\n",
       "      <td>13681.0</td>\n",
       "      <td>22969.0</td>\n",
       "      <td>18325.0</td>\n",
       "    </tr>\n",
       "    <tr>\n",
       "      <th>4</th>\n",
       "      <td>2</td>\n",
       "      <td>2018</td>\n",
       "      <td>Andheri</td>\n",
       "      <td>14079.0</td>\n",
       "      <td>23628.0</td>\n",
       "      <td>18853.0</td>\n",
       "    </tr>\n",
       "  </tbody>\n",
       "</table>\n",
       "</div>"
      ],
      "text/plain": [
       "   Quarterly_Period   Year Locality  Lower price Range  Upper price Range  \\\n",
       "0                  2  2019  Andheri            12845.0            22330.0   \n",
       "1                  1  2019  Andheri            13752.0            22496.0   \n",
       "2                  4  2018  Andheri            13409.0            23106.0   \n",
       "3                  3  2018  Andheri            13681.0            22969.0   \n",
       "4                  2  2018  Andheri            14079.0            23628.0   \n",
       "\n",
       "   Average Price  \n",
       "0        17588.0  \n",
       "1        18124.0  \n",
       "2        18257.0  \n",
       "3        18325.0  \n",
       "4        18853.0  "
      ]
     },
     "execution_count": 2,
     "metadata": {},
     "output_type": "execute_result"
    }
   ],
   "source": [
    "df=pd.read_csv('C:/Users/Arvind Mishra/Desktop/Commercial/commercial.csv')\n",
    "df.head()"
   ]
  },
  {
   "cell_type": "code",
   "execution_count": 3,
   "metadata": {},
   "outputs": [
    {
     "name": "stdout",
     "output_type": "stream",
     "text": [
      "<class 'pandas.core.frame.DataFrame'>\n",
      "RangeIndex: 397 entries, 0 to 396\n",
      "Data columns (total 6 columns):\n",
      "Quarterly_Period     397 non-null int64\n",
      "Year                 397 non-null int64\n",
      "Locality             397 non-null object\n",
      "Lower price Range    397 non-null float64\n",
      "Upper price Range    397 non-null float64\n",
      "Average Price        397 non-null float64\n",
      "dtypes: float64(3), int64(2), object(1)\n",
      "memory usage: 18.7+ KB\n"
     ]
    }
   ],
   "source": [
    "df.info()"
   ]
  },
  {
   "cell_type": "code",
   "execution_count": 4,
   "metadata": {},
   "outputs": [
    {
     "data": {
      "text/plain": [
       "Index(['Quarterly_Period ', 'Year', 'Locality', 'Lower price Range',\n",
       "       'Upper price Range', 'Average Price'],\n",
       "      dtype='object')"
      ]
     },
     "execution_count": 4,
     "metadata": {},
     "output_type": "execute_result"
    }
   ],
   "source": [
    "df.columns"
   ]
  },
  {
   "cell_type": "code",
   "execution_count": 5,
   "metadata": {},
   "outputs": [
    {
     "data": {
      "text/plain": [
       "(397, 6)"
      ]
     },
     "execution_count": 5,
     "metadata": {},
     "output_type": "execute_result"
    }
   ],
   "source": [
    "df.shape"
   ]
  },
  {
   "cell_type": "code",
   "execution_count": 6,
   "metadata": {},
   "outputs": [
    {
     "data": {
      "text/plain": [
       "['Quarterly_Period ',\n",
       " 'Year',\n",
       " 'Lower price Range',\n",
       " 'Upper price Range',\n",
       " 'Average Price']"
      ]
     },
     "execution_count": 6,
     "metadata": {},
     "output_type": "execute_result"
    }
   ],
   "source": [
    "numeric_cols=list(df.select_dtypes(exclude=['object']))\n",
    "numeric_cols"
   ]
  },
  {
   "cell_type": "code",
   "execution_count": 7,
   "metadata": {},
   "outputs": [
    {
     "data": {
      "text/plain": [
       "['Locality']"
      ]
     },
     "execution_count": 7,
     "metadata": {},
     "output_type": "execute_result"
    }
   ],
   "source": [
    "categorical_cols=list(df.select_dtypes(include=['object']))\n",
    "categorical_cols"
   ]
  },
  {
   "cell_type": "code",
   "execution_count": 8,
   "metadata": {},
   "outputs": [
    {
     "name": "stdout",
     "output_type": "stream",
     "text": [
      "Quarterly_Period \n",
      "[2 1 4 3]\n",
      "------------------------------------------------------------\n",
      "Year\n",
      "[2019 2018 2017 2016 2015 2014 2013]\n",
      "------------------------------------------------------------\n",
      "Locality\n",
      "['Andheri' 'Andheri East' 'Andheri Link Road' 'Andheri West' 'Bandra'\n",
      " 'Bandra East' 'Bandra Kurla Complex' 'Bhandup' 'Bhandup West' 'Borivali'\n",
      " 'Borivali West' 'Chakala' 'Chembur' 'Dadar' 'Fort' 'Goregaon'\n",
      " 'Goregaon East' 'Goregaon West' 'Kalbadevi' 'Kandivali East'\n",
      " 'Kandivali West']\n",
      "------------------------------------------------------------\n",
      "Lower price Range\n",
      "[12845.    13752.    13409.    13681.    14079.    13169.    13149.\n",
      " 13199.    12137.    12928.    12118.    12036.    12260.    11590.\n",
      " 11476.    11818.    11805.    11989.    12017.    11869.    11231.\n",
      " 11328.    11479.    11058.    10997.    10928.    11077.    10925.\n",
      " 10864.    10555.    10068.     9550.    10035.    10031.    17938.\n",
      " 17600.    17353.    16740.    17074.    17065.    16794.    16360.\n",
      " 15707.    15144.    15134.    15877.    15912.    17611.    17562.\n",
      " 17062.    16650.    17126.    17155.    16785.    16497.    15813.\n",
      " 14774.    14942.    15739.    15675.    15331.    15220.    15076.\n",
      " 15404.    14945.    14905.    14354.    14496.    14494.    14124.\n",
      " 12812.    13482.    13618.    25558.    26217.    27278.    25504.\n",
      " 26391.    25071.    25531.    24611.    24695.    24402.    26728.\n",
      " 25116.    24864.    24990.    24927.    24958.5   22325.    23401.\n",
      " 23391.    24531.    24843.    25155.    26788.    26757.    27815.\n",
      " 26202.    26349.    23665.    24366.    27108.    26703.    26619.\n",
      " 26544.    26869.    24955.    25257.    27276.    25695.    23378.\n",
      " 23090.    21560.    17249.    20328.    22934.    22145.    24310.\n",
      " 25214.    25666.    10808.     9943.     9975.    10046.    10275.\n",
      " 10896.    11159.    10232.    10374.     9599.    10224.    10185.\n",
      " 10541.    11078.    10427.    10369.     9431.     8391.     8997.\n",
      "  8787.     8743.     7998.     8282.     8408.     8533.     8738.\n",
      "  8635.5    8686.75   8668.375  8650.    16922.    17763.    18338.\n",
      " 16228.    16556.    16147.    19380.    17233.    16577.    17146.\n",
      " 17039.    17530.    17023.    16476.    17218.    15686.    16658.\n",
      " 15083.    14227.    14992.    15361.    15274.    15258.    15034.\n",
      " 15845.    14650.    14039.    13939.    16374.    15644.    16093.\n",
      " 15997.    14986.    14619.    15054.    14883.    13754.    13795.\n",
      " 14068.    13934.    13630.    13644.    13378.    13137.    13459.\n",
      " 14718.    14055.    14197.    14087.    14373.    13476.    12942.\n",
      " 13878.    13894.    13501.    13351.    13232.    12747.    13687.\n",
      " 13158.    12964.    13511.    12635.    13178.    14012.    12820.\n",
      " 13100.    11881.    12273.    11930.    22223.    23027.    25897.\n",
      " 27612.    24885.    21155.    20365.    22161.    20670.    20119.\n",
      " 19606.    19375.    17285.    16974.    17363.    19346.    19148.\n",
      " 17880.    19248.    19554.    19456.    20659.    21900.    20384.\n",
      " 20036.    19651.    19981.    22356.    22393.    22179.    18159.\n",
      " 12503.    12728.    12560.    12642.    12762.    12711.    12718.\n",
      " 12694.    12830.    12605.    12767.    13262.    13269.    13103.\n",
      " 11447.    11387.    11677.    11551.    12013.    11831.    11817.\n",
      " 11766.    11673.    11623.    11546.    11083.    11408.    11235.\n",
      " 10982.    10726.    10335.    10865.    10060.    12853.    12550.\n",
      " 12702.    11894.    12466.    13583.    13025.    11006.    11322.\n",
      " 10690.    11260.    11683.    11832.    12016.    11700.    12958.\n",
      " 13123.    11858.    13041.    11223.    11744.    11601.    11400.\n",
      " 12000.    11548.    11268.    22248.    21479.    20422.    19648.\n",
      " 20840.    20966.    22896.    21278.    23237.    21172.    23666.\n",
      " 21335.    22551.    22074.    20300.    21107.    23218.    25329.\n",
      " 13524.    12599.    15192.    14127.    13062.    14765.    15820.\n",
      " 14157.    17067.    17450.    14659.    14130.    14058.    14217.\n",
      " 14328.    14025.    15866.    14220.    13783.    15289.    13936.\n",
      " 13022.    13042.    12797.    11080.    11836.    11178.    11252.\n",
      " 13532.    13172.    13027.    12866.    13572.    12164.    13297.\n",
      " 12302.    11574.    11484.    12731.    11739.    12325.   ]\n",
      "------------------------------------------------------------\n",
      "Upper price Range\n",
      "[22330.  22496.  23106.  22969.  23628.  22665.  22156.  22060.  20550.\n",
      " 21295.  21072.  20492.  19572.  18327.  18395.  18812.  18832.  18809.\n",
      " 18335.  18143.  17938.  17339.  17333.  16934.  16847.  16920.  16768.\n",
      " 17012.  16994.  16515.  16181.  15252.  16024.  16216.  27935.  25887.\n",
      " 27298.  25813.  25868.  26418.  26220.  26321.  25639.  25345.  25150.\n",
      " 25666.  24684.  27652.  25680.  27318.  25786.  26007.  26528.  26338.\n",
      " 26350.  25749.  25184.  24982.  25647.  24664.  24197.  24167.  23621.\n",
      " 23295.  22136.  22022.  22166.  22668.  22628.  21218.  19907.  20648.\n",
      " 21127.  40716.  40719.  39227.  38469.  38848.  41843.  42987.  40699.\n",
      " 39676.  39995.  38577.  37978.  37862.  37920.  37891.  37905.5 36842.\n",
      " 37812.  37830.  37877.  37703.  37529.  39765.  39706.  38415.  39193.\n",
      " 38661.  37442.  36846.  40849.  40955.  40063.  36009.  38108.  38262.\n",
      " 37433.  37958.  37387.  34488.  34797.  32227.  31961.  32413.  32675.\n",
      " 33162.  34952.  34770.  34679.  17343.  15547.  16175.  18031.  14987.\n",
      " 15643.  15344.  15078.  16817.  15285.  16145.  18330.  16987.  15199.\n",
      " 15074.  15261.  13940.  12783.  13230.  12494.  15153.  12687.  13260.\n",
      " 13434.  13607.  13423.  13515.  13469.  13217.5 12966.  27565.  30345.\n",
      " 31033.  26974.  28205.  29169.  31757.  30215.  27856.  28806.  28418.\n",
      " 28792.  27714.  26897.  29255.  28264.  26717.  25138.  25062.  22401.\n",
      " 22725.  21895.  23983.  21837.  21156.  21019.  19880.  20829.  23380.\n",
      " 22882.  22593.  22050.  21437.  20185.  20162.  19474.  19603.  19003.\n",
      " 18589.  18023.  18098.  18507.  18326.  17968.  17995.  18205.  23953.\n",
      " 22848.  24142.  24755.  24813.  22315.  20102.  24389.  22695.  22504.\n",
      " 21945.  21937.  21780.  24016.  24035.  22020.  22573.  24230.  21408.\n",
      " 22614.  23569.  22987.  20674.  20321.  19178.  21197.  37680.  40394.\n",
      " 48434.  46879.  43544.  36148.  35062.  35261.  30475.  31377.  30432.\n",
      " 31246.  29819.  28332.  30999.  32282.  33775.  31004.  32903.  33282.\n",
      " 33639.  33604.  35918.  34986.  34092.  33796.  34825.  35930.  37770.\n",
      " 36944.  30707.  19717.  19442.  18624.  18664.  20328.  18800.  18466.\n",
      " 18997.  18725.  18705.  19937.  19015.  18226.  17611.  17006.  16936.\n",
      " 17090.  16775.  16932.  16900.  16887.  16781.  16743.  16352.  16311.\n",
      " 16423.  16582.  15616.  14819.  15168.  14382.  15079.  22459.  22300.\n",
      " 22500.  21386.  23755.  23985.  17524.5 17472.  17577.  17366.  16850.\n",
      " 16667.  18670.  18393.  17720.  18672.  18771.  18057.  18722.  16574.\n",
      " 16170.  16253.  16568.  15772.  16971.  16176.  34766.  34536.  32808.\n",
      " 32680.  34304.  35034.  35480.  34609.  41054.  33815.  40990.  35276.\n",
      " 41549.  35295.  33519.  38202.  41127.  23204.  18663.  24874.  22904.\n",
      " 20934.  25304.  25398.  24350.  28521.  27522.  25181.  25630.  25530.\n",
      " 23600.  24032.  24466.  25743.  24235.  23697.  24065.  22588.  20497.\n",
      " 20692.  20705.  19734.  19077.  19765.  17890.  22453.  21518.  21533.\n",
      " 19742.  20707.  20342.  20205.  20288.  17986.  18204.  20225.  17369.\n",
      " 20245. ]\n",
      "------------------------------------------------------------\n",
      "Average Price\n",
      "[17588.     18124.     18257.     18325.     18853.     17917.\n",
      " 17652.     17629.     16343.     17112.     16595.     16264.\n",
      " 15916.     14958.     14936.     15315.     15318.     15399.\n",
      " 15176.     15006.     14585.     14334.     14406.     13996.\n",
      " 13922.     13924.     13969.     13929.     13535.     13125.\n",
      " 12401.     13029.     13124.     22937.     21743.     22325.\n",
      " 21277.     21471.     21741.     21507.     21341.     20673.\n",
      " 20245.     20142.     20771.     20298.     22631.     21621.\n",
      " 22190.     21218.     21567.     21841.     21561.     21424.\n",
      " 20781.     19979.     19962.     20693.     20169.     19764.\n",
      " 19694.     19349.     19350.     18540.     18463.     18260.\n",
      " 18582.     18561.     17671.     16359.     17065.     17372.\n",
      " 33137.     33468.     33252.     31986.     32619.5    33457.\n",
      " 34259.     32655.     32185.     32199.     32652.     31547.\n",
      " 31363.     31455.     31409.     31432.     29584.     30607.\n",
      " 30611.     31204.     31273.     31342.     33276.     33232.\n",
      " 33115.     32698.     32505.     30553.     30606.     33978.\n",
      " 33829.     33341.     31277.     32489.     31609.     31345.\n",
      " 32617.     31541.     28933.     28944.     26893.     24605.\n",
      " 26371.     27805.     27654.     29631.     29992.     30172.\n",
      " 14076.     12745.     13075.     14039.     12631.     13269.\n",
      " 13251.     12655.     13595.     12442.     13185.     14258.\n",
      " 13764.     13138.     12751.     12815.     11686.     10587.\n",
      " 11113.     10640.     11948.     10342.     10771.     10921.\n",
      " 11070.     11081.     11075.25   11077.875  10942.9375 10808.\n",
      " 22244.     24054.     24685.     21601.     22380.     22658.\n",
      " 25569.     23724.     22216.     22976.     22728.     23161.\n",
      " 22368.     21687.     23236.     21975.     20111.     19645.\n",
      " 18696.     19043.     18585.     19621.     18436.     18500.\n",
      " 17835.     16960.     17384.     19877.     19263.     19343.\n",
      " 19024.     18212.     17402.     17608.     17179.     16915.\n",
      " 16378.     16192.     16046.     16016.     16069.     15985.\n",
      " 15673.     15566.     15832.     19335.     18451.     19169.\n",
      " 19421.     19593.     17896.     16522.     19134.     18295.\n",
      " 18002.     17648.     17585.     17264.     18852.     18915.\n",
      " 17589.     17768.     18871.     17022.     18790.     17904.\n",
      " 16887.     16101.     15725.     16564.     29951.     31711.\n",
      " 37166.     37246.     34215.     28651.     27714.     28711.\n",
      " 25573.     25748.     25019.     25310.     23552.     22653.\n",
      " 24181.     25814.     26462.     24442.     26076.     26418.\n",
      " 26548.     27131.     28909.     27685.     27064.     26724.\n",
      " 27403.     29143.     30081.     29562.     24433.     16110.\n",
      " 16085.     15592.     15653.     16545.     15756.     16133.\n",
      " 15914.     15665.     15736.     16599.     16142.     15664.\n",
      " 14529.     14196.     14307.     14320.     14394.     14382.\n",
      " 14358.     14326.     14227.     14183.     13949.     13697.\n",
      " 13915.     13908.     13299.     12772.     12752.     12623.\n",
      " 12569.     17656.     17425.     17601.     16640.     18110.\n",
      " 18784.     15274.75   14239.     14450.     14028.     14055.\n",
      " 14175.     15251.     15204.     14710.     15815.     15947.\n",
      " 17958.     15882.     13898.     13957.     13927.     13984.\n",
      " 13886.     14259.     13722.     28507.     28007.     26615.\n",
      " 26164.     27572.     28000.     29188.     27943.     32146.\n",
      " 27494.     32328.     28306.     32050.     28685.     26910.\n",
      " 28192.     30710.     33228.     18364.     15631.     20033.\n",
      " 18516.     16998.     20035.     20609.     19253.     22794.\n",
      " 22486.     19920.     19880.     19794.     18908.     19180.\n",
      " 19246.     20413.     20807.     19227.     18740.     19677.\n",
      " 18262.     16760.     16867.     16751.     15407.     15457.\n",
      " 15472.     14571.     17993.     17345.     17280.     16304.\n",
      " 17139.     16253.     16295.     14780.     14844.     16478.\n",
      " 14554.     16285.    ]\n",
      "------------------------------------------------------------\n"
     ]
    }
   ],
   "source": [
    "for i in df.columns:\n",
    "    print(i)\n",
    "    print(df[i].unique())\n",
    "    print('---'*20)"
   ]
  },
  {
   "cell_type": "code",
   "execution_count": 9,
   "metadata": {},
   "outputs": [],
   "source": [
    "df['Year'].replace({2019:1,2018:2,2017:3,2016:4,2015:5,2014:6,2013:7},inplace=True)"
   ]
  },
  {
   "cell_type": "code",
   "execution_count": 10,
   "metadata": {},
   "outputs": [
    {
     "data": {
      "text/html": [
       "<div>\n",
       "<style scoped>\n",
       "    .dataframe tbody tr th:only-of-type {\n",
       "        vertical-align: middle;\n",
       "    }\n",
       "\n",
       "    .dataframe tbody tr th {\n",
       "        vertical-align: top;\n",
       "    }\n",
       "\n",
       "    .dataframe thead th {\n",
       "        text-align: right;\n",
       "    }\n",
       "</style>\n",
       "<table border=\"1\" class=\"dataframe\">\n",
       "  <thead>\n",
       "    <tr style=\"text-align: right;\">\n",
       "      <th></th>\n",
       "      <th>Quarterly_Period</th>\n",
       "      <th>Year</th>\n",
       "      <th>Locality</th>\n",
       "      <th>Lower price Range</th>\n",
       "      <th>Upper price Range</th>\n",
       "      <th>Average Price</th>\n",
       "    </tr>\n",
       "  </thead>\n",
       "  <tbody>\n",
       "    <tr>\n",
       "      <th>0</th>\n",
       "      <td>2</td>\n",
       "      <td>1</td>\n",
       "      <td>Andheri</td>\n",
       "      <td>12845.0</td>\n",
       "      <td>22330.0</td>\n",
       "      <td>17588.0</td>\n",
       "    </tr>\n",
       "    <tr>\n",
       "      <th>1</th>\n",
       "      <td>1</td>\n",
       "      <td>1</td>\n",
       "      <td>Andheri</td>\n",
       "      <td>13752.0</td>\n",
       "      <td>22496.0</td>\n",
       "      <td>18124.0</td>\n",
       "    </tr>\n",
       "    <tr>\n",
       "      <th>2</th>\n",
       "      <td>4</td>\n",
       "      <td>2</td>\n",
       "      <td>Andheri</td>\n",
       "      <td>13409.0</td>\n",
       "      <td>23106.0</td>\n",
       "      <td>18257.0</td>\n",
       "    </tr>\n",
       "    <tr>\n",
       "      <th>3</th>\n",
       "      <td>3</td>\n",
       "      <td>2</td>\n",
       "      <td>Andheri</td>\n",
       "      <td>13681.0</td>\n",
       "      <td>22969.0</td>\n",
       "      <td>18325.0</td>\n",
       "    </tr>\n",
       "    <tr>\n",
       "      <th>4</th>\n",
       "      <td>2</td>\n",
       "      <td>2</td>\n",
       "      <td>Andheri</td>\n",
       "      <td>14079.0</td>\n",
       "      <td>23628.0</td>\n",
       "      <td>18853.0</td>\n",
       "    </tr>\n",
       "  </tbody>\n",
       "</table>\n",
       "</div>"
      ],
      "text/plain": [
       "   Quarterly_Period   Year Locality  Lower price Range  Upper price Range  \\\n",
       "0                  2     1  Andheri            12845.0            22330.0   \n",
       "1                  1     1  Andheri            13752.0            22496.0   \n",
       "2                  4     2  Andheri            13409.0            23106.0   \n",
       "3                  3     2  Andheri            13681.0            22969.0   \n",
       "4                  2     2  Andheri            14079.0            23628.0   \n",
       "\n",
       "   Average Price  \n",
       "0        17588.0  \n",
       "1        18124.0  \n",
       "2        18257.0  \n",
       "3        18325.0  \n",
       "4        18853.0  "
      ]
     },
     "execution_count": 10,
     "metadata": {},
     "output_type": "execute_result"
    }
   ],
   "source": [
    "df.head()"
   ]
  },
  {
   "cell_type": "code",
   "execution_count": 11,
   "metadata": {},
   "outputs": [],
   "source": [
    "from sklearn.preprocessing import LabelEncoder"
   ]
  },
  {
   "cell_type": "code",
   "execution_count": 12,
   "metadata": {},
   "outputs": [],
   "source": [
    "labelEnc=LabelEncoder()\n",
    "df[categorical_cols]=df[categorical_cols].apply(LabelEncoder().fit_transform)"
   ]
  },
  {
   "cell_type": "code",
   "execution_count": 13,
   "metadata": {},
   "outputs": [
    {
     "data": {
      "text/html": [
       "<div>\n",
       "<style scoped>\n",
       "    .dataframe tbody tr th:only-of-type {\n",
       "        vertical-align: middle;\n",
       "    }\n",
       "\n",
       "    .dataframe tbody tr th {\n",
       "        vertical-align: top;\n",
       "    }\n",
       "\n",
       "    .dataframe thead th {\n",
       "        text-align: right;\n",
       "    }\n",
       "</style>\n",
       "<table border=\"1\" class=\"dataframe\">\n",
       "  <thead>\n",
       "    <tr style=\"text-align: right;\">\n",
       "      <th></th>\n",
       "      <th>Quarterly_Period</th>\n",
       "      <th>Year</th>\n",
       "      <th>Locality</th>\n",
       "      <th>Lower price Range</th>\n",
       "      <th>Upper price Range</th>\n",
       "      <th>Average Price</th>\n",
       "    </tr>\n",
       "  </thead>\n",
       "  <tbody>\n",
       "    <tr>\n",
       "      <th>0</th>\n",
       "      <td>2</td>\n",
       "      <td>1</td>\n",
       "      <td>0</td>\n",
       "      <td>12845.0</td>\n",
       "      <td>22330.0</td>\n",
       "      <td>17588.0</td>\n",
       "    </tr>\n",
       "    <tr>\n",
       "      <th>1</th>\n",
       "      <td>1</td>\n",
       "      <td>1</td>\n",
       "      <td>0</td>\n",
       "      <td>13752.0</td>\n",
       "      <td>22496.0</td>\n",
       "      <td>18124.0</td>\n",
       "    </tr>\n",
       "    <tr>\n",
       "      <th>2</th>\n",
       "      <td>4</td>\n",
       "      <td>2</td>\n",
       "      <td>0</td>\n",
       "      <td>13409.0</td>\n",
       "      <td>23106.0</td>\n",
       "      <td>18257.0</td>\n",
       "    </tr>\n",
       "    <tr>\n",
       "      <th>3</th>\n",
       "      <td>3</td>\n",
       "      <td>2</td>\n",
       "      <td>0</td>\n",
       "      <td>13681.0</td>\n",
       "      <td>22969.0</td>\n",
       "      <td>18325.0</td>\n",
       "    </tr>\n",
       "    <tr>\n",
       "      <th>4</th>\n",
       "      <td>2</td>\n",
       "      <td>2</td>\n",
       "      <td>0</td>\n",
       "      <td>14079.0</td>\n",
       "      <td>23628.0</td>\n",
       "      <td>18853.0</td>\n",
       "    </tr>\n",
       "  </tbody>\n",
       "</table>\n",
       "</div>"
      ],
      "text/plain": [
       "   Quarterly_Period   Year  Locality  Lower price Range  Upper price Range  \\\n",
       "0                  2     1         0            12845.0            22330.0   \n",
       "1                  1     1         0            13752.0            22496.0   \n",
       "2                  4     2         0            13409.0            23106.0   \n",
       "3                  3     2         0            13681.0            22969.0   \n",
       "4                  2     2         0            14079.0            23628.0   \n",
       "\n",
       "   Average Price  \n",
       "0        17588.0  \n",
       "1        18124.0  \n",
       "2        18257.0  \n",
       "3        18325.0  \n",
       "4        18853.0  "
      ]
     },
     "execution_count": 13,
     "metadata": {},
     "output_type": "execute_result"
    }
   ],
   "source": [
    "df.head()"
   ]
  },
  {
   "cell_type": "code",
   "execution_count": 14,
   "metadata": {},
   "outputs": [
    {
     "data": {
      "text/plain": [
       "<matplotlib.axes._subplots.AxesSubplot at 0xae3e1fde48>"
      ]
     },
     "execution_count": 14,
     "metadata": {},
     "output_type": "execute_result"
    },
    {
     "data": {
      "image/png": "[encoded data removed]",
      "text/plain": [
       "<Figure size 1440x1440 with 2 Axes>"
      ]
     },
     "metadata": {
      "needs_background": "light"
     },
     "output_type": "display_data"
    }
   ],
   "source": [
    "fig,ax=plt.subplots(figsize=(20,20))\n",
    "sns.heatmap(df.corr(),annot=True,cmap='viridis',linewidths=0.5,ax=ax)"
   ]
  },
  {
   "cell_type": "code",
   "execution_count": 15,
   "metadata": {
    "scrolled": true
   },
   "outputs": [
    {
     "data": {
      "text/plain": [
       "count      397.000000\n",
       "mean     19806.056360\n",
       "std       6541.483545\n",
       "min      10342.000000\n",
       "25%      14571.000000\n",
       "50%      18110.000000\n",
       "75%      23552.000000\n",
       "max      37246.000000\n",
       "Name: Average Price, dtype: float64"
      ]
     },
     "execution_count": 15,
     "metadata": {},
     "output_type": "execute_result"
    }
   ],
   "source": [
    "df['Average Price'].describe()"
   ]
  },
  {
   "cell_type": "code",
   "execution_count": 16,
   "metadata": {},
   "outputs": [],
   "source": [
    "from scipy.stats import skew\n",
    "from scipy import stats\n",
    "from scipy.stats.stats import pearsonr\n",
    "from scipy.stats import norm"
   ]
  },
  {
   "cell_type": "code",
   "execution_count": 17,
   "metadata": {},
   "outputs": [
    {
     "name": "stdout",
     "output_type": "stream",
     "text": [
      "\n",
      " mu = 19806.06 and sigma = 6533.24\n",
      "\n"
     ]
    },
    {
     "data": {
      "image/png": "[encoded data removed]",
      "text/plain": [
       "<Figure size 432x288 with 1 Axes>"
      ]
     },
     "metadata": {
      "needs_background": "light"
     },
     "output_type": "display_data"
    },
    {
     "data": {
      "image/png": "[encoded data removed]",
      "text/plain": [
       "<Figure size 432x288 with 1 Axes>"
      ]
     },
     "metadata": {
      "needs_background": "light"
     },
     "output_type": "display_data"
    },
    {
     "name": "stdout",
     "output_type": "stream",
     "text": [
      "Skewness: 0.740368\n",
      "Kurtosis: -0.507884\n"
     ]
    }
   ],
   "source": [
    "sns.distplot(df['Average Price'] , fit=norm);\n",
    "\n",
    "# Get the fitted parameters used by the function\n",
    "(mu, sigma) = norm.fit(df['Average Price'])\n",
    "print( '\\n mu = {:.2f} and sigma = {:.2f}\\n'.format(mu, sigma))\n",
    "plt.legend(['Normal dist. ($\\mu=$ {:.2f} and $\\sigma=$ {:.2f} )'.format(mu, sigma)],\n",
    "            loc='best')\n",
    "plt.ylabel('Frequency')\n",
    "plt.title('SalePrice distribution')\n",
    "\n",
    "fig = plt.figure()\n",
    "res = stats.probplot(df['Average Price'], plot=plt)\n",
    "plt.show()\n",
    "\n",
    "print(\"Skewness: %f\" % df['Average Price'].skew())\n",
    "print(\"Kurtosis: %f\" % df['Average Price'].kurt())"
   ]
  },
  {
   "cell_type": "code",
   "execution_count": 18,
   "metadata": {},
   "outputs": [
    {
     "name": "stdout",
     "output_type": "stream",
     "text": [
      "\n",
      " mu = 9.84 and sigma = 0.32\n",
      "\n"
     ]
    },
    {
     "data": {
      "image/png": "[encoded data removed]",
      "text/plain": [
       "<Figure size 432x288 with 1 Axes>"
      ]
     },
     "metadata": {
      "needs_background": "light"
     },
     "output_type": "display_data"
    },
    {
     "data": {
      "image/png": "[encoded data removed]",
      "text/plain": [
       "<Figure size 432x288 with 1 Axes>"
      ]
     },
     "metadata": {
      "needs_background": "light"
     },
     "output_type": "display_data"
    },
    {
     "name": "stdout",
     "output_type": "stream",
     "text": [
      "Skewness: 0.259803\n",
      "Kurtosis: -0.838824\n"
     ]
    }
   ],
   "source": [
    "df['Average Price'] = np.log1p(df['Average Price'])\n",
    "\n",
    "#Check the new distribution \n",
    "sns.distplot(df['Average Price'] , fit=norm);\n",
    "\n",
    "# Get the fitted parameters used by the function\n",
    "(mu, sigma) = norm.fit(df['Average Price'])\n",
    "print( '\\n mu = {:.2f} and sigma = {:.2f}\\n'.format(mu, sigma))\n",
    "plt.legend(['Normal dist. ($\\mu=$ {:.2f} and $\\sigma=$ {:.2f} )'.format(mu, sigma)],\n",
    "            loc='best')\n",
    "plt.ylabel('Frequency')\n",
    "plt.title('SalePrice distribution')\n",
    "\n",
    "fig = plt.figure()\n",
    "res = stats.probplot(df['Average Price'], plot=plt)\n",
    "plt.show()\n",
    "\n",
    "print(\"Skewness: %f\" % df['Average Price'].skew())\n",
    "print(\"Kurtosis: %f\" % df['Average Price'].kurt())\n",
    " "
   ]
  },
  {
   "cell_type": "code",
   "execution_count": 19,
   "metadata": {},
   "outputs": [],
   "source": [
    "  from sklearn.model_selection import train_test_split"
   ]
  },
  {
   "cell_type": "code",
   "execution_count": 20,
   "metadata": {},
   "outputs": [],
   "source": [
    "X=df.drop('Average Price',axis=1)\n",
    "y=df['Average Price']"
   ]
  },
  {
   "cell_type": "code",
   "execution_count": 21,
   "metadata": {},
   "outputs": [],
   "source": [
    "X_train,X_test,y_train,y_test=train_test_split(X,y,test_size=0.1,random_state=6)"
   ]
  },
  {
   "cell_type": "code",
   "execution_count": 22,
   "metadata": {},
   "outputs": [],
   "source": [
    "from sklearn.linear_model import LinearRegression\n",
    "from sklearn.metrics import r2_score"
   ]
  },
  {
   "cell_type": "code",
   "execution_count": 23,
   "metadata": {},
   "outputs": [
    {
     "name": "stdout",
     "output_type": "stream",
     "text": [
      "0.9787040830312282\n"
     ]
    }
   ],
   "source": [
    "regressor=LinearRegression()\n",
    "regressor.fit(X_train,y_train)\n",
    "y_pred=regressor.predict(X_test)\n",
    "r2=r2_score(y_test,y_pred)\n",
    "print(r2)"
   ]
  },
  {
   "cell_type": "code",
   "execution_count": 24,
   "metadata": {},
   "outputs": [],
   "source": [
    "from sklearn.linear_model import Ridge"
   ]
  },
  {
   "cell_type": "code",
   "execution_count": 25,
   "metadata": {},
   "outputs": [
    {
     "name": "stdout",
     "output_type": "stream",
     "text": [
      "0.9787043226645568\n"
     ]
    }
   ],
   "source": [
    "\n",
    "ridge=Ridge(alpha=2)\n",
    "ridge.fit(X_train,y_train)\n",
    "ridge_pred=ridge.predict(X_test)\n",
    "r2_ridge=r2_score(y_test,ridge_pred)\n",
    "print(r2_ridge)"
   ]
  },
  {
   "cell_type": "code",
   "execution_count": 26,
   "metadata": {},
   "outputs": [],
   "source": [
    "from sklearn.model_selection import cross_val_score"
   ]
  },
  {
   "cell_type": "code",
   "execution_count": 27,
   "metadata": {},
   "outputs": [
    {
     "name": "stdout",
     "output_type": "stream",
     "text": [
      "[0.9460605  0.9778123  0.97609321 0.96485246 0.98025722 0.97702734\n",
      " 0.97908576 0.97052081 0.97860008 0.98165751]\n",
      "0.9731967189490763\n"
     ]
    }
   ],
   "source": [
    "regressor=LinearRegression()\n",
    "score=cross_val_score(regressor,X_train,y_train,cv=10)\n",
    "print(score)\n",
    "mean_score=score.mean()\n",
    "print(mean_score)"
   ]
  },
  {
   "cell_type": "code",
   "execution_count": 28,
   "metadata": {},
   "outputs": [],
   "source": [
    "from sklearn.preprocessing import PolynomialFeatures\n",
    "from sklearn.pipeline import make_pipeline"
   ]
  },
  {
   "cell_type": "code",
   "execution_count": 29,
   "metadata": {},
   "outputs": [
    {
     "name": "stdout",
     "output_type": "stream",
     "text": [
      "0.9991953605549111\n"
     ]
    }
   ],
   "source": [
    "model=make_pipeline(PolynomialFeatures(2),LinearRegression())\n",
    "model.fit(X_train,y_train)\n",
    "y_pred=model.predict(X_test)\n",
    "r2_poly=r2_score(y_test,y_pred)\n",
    "print(r2_poly)"
   ]
  },
  {
   "cell_type": "code",
   "execution_count": 30,
   "metadata": {},
   "outputs": [
    {
     "data": {
      "text/html": [
       "<div>\n",
       "<style scoped>\n",
       "    .dataframe tbody tr th:only-of-type {\n",
       "        vertical-align: middle;\n",
       "    }\n",
       "\n",
       "    .dataframe tbody tr th {\n",
       "        vertical-align: top;\n",
       "    }\n",
       "\n",
       "    .dataframe thead th {\n",
       "        text-align: right;\n",
       "    }\n",
       "</style>\n",
       "<table border=\"1\" class=\"dataframe\">\n",
       "  <thead>\n",
       "    <tr style=\"text-align: right;\">\n",
       "      <th></th>\n",
       "      <th>Quarterly_Period</th>\n",
       "      <th>Year</th>\n",
       "      <th>Locality</th>\n",
       "      <th>Lower price Range</th>\n",
       "      <th>Upper price Range</th>\n",
       "      <th>Average Price</th>\n",
       "    </tr>\n",
       "  </thead>\n",
       "  <tbody>\n",
       "    <tr>\n",
       "      <th>0</th>\n",
       "      <td>2</td>\n",
       "      <td>1</td>\n",
       "      <td>0</td>\n",
       "      <td>12845.0</td>\n",
       "      <td>22330.0</td>\n",
       "      <td>9.775029</td>\n",
       "    </tr>\n",
       "    <tr>\n",
       "      <th>1</th>\n",
       "      <td>1</td>\n",
       "      <td>1</td>\n",
       "      <td>0</td>\n",
       "      <td>13752.0</td>\n",
       "      <td>22496.0</td>\n",
       "      <td>9.805047</td>\n",
       "    </tr>\n",
       "    <tr>\n",
       "      <th>2</th>\n",
       "      <td>4</td>\n",
       "      <td>2</td>\n",
       "      <td>0</td>\n",
       "      <td>13409.0</td>\n",
       "      <td>23106.0</td>\n",
       "      <td>9.812359</td>\n",
       "    </tr>\n",
       "    <tr>\n",
       "      <th>3</th>\n",
       "      <td>3</td>\n",
       "      <td>2</td>\n",
       "      <td>0</td>\n",
       "      <td>13681.0</td>\n",
       "      <td>22969.0</td>\n",
       "      <td>9.816076</td>\n",
       "    </tr>\n",
       "    <tr>\n",
       "      <th>4</th>\n",
       "      <td>2</td>\n",
       "      <td>2</td>\n",
       "      <td>0</td>\n",
       "      <td>14079.0</td>\n",
       "      <td>23628.0</td>\n",
       "      <td>9.844480</td>\n",
       "    </tr>\n",
       "  </tbody>\n",
       "</table>\n",
       "</div>"
      ],
      "text/plain": [
       "   Quarterly_Period   Year  Locality  Lower price Range  Upper price Range  \\\n",
       "0                  2     1         0            12845.0            22330.0   \n",
       "1                  1     1         0            13752.0            22496.0   \n",
       "2                  4     2         0            13409.0            23106.0   \n",
       "3                  3     2         0            13681.0            22969.0   \n",
       "4                  2     2         0            14079.0            23628.0   \n",
       "\n",
       "   Average Price  \n",
       "0       9.775029  \n",
       "1       9.805047  \n",
       "2       9.812359  \n",
       "3       9.816076  \n",
       "4       9.844480  "
      ]
     },
     "execution_count": 30,
     "metadata": {},
     "output_type": "execute_result"
    }
   ],
   "source": [
    "df.head()"
   ]
  },
  {
   "cell_type": "code",
   "execution_count": null,
   "metadata": {},
   "outputs": [],
   "source": []
  },
  {
   "cell_type": "code",
   "execution_count": null,
   "metadata": {},
   "outputs": [],
   "source": []
  },
  {
   "cell_type": "code",
   "execution_count": null,
   "metadata": {},
   "outputs": [],
   "source": []
  },
  {
   "cell_type": "code",
   "execution_count": null,
   "metadata": {},
   "outputs": [],
   "source": []
  },
  {
   "cell_type": "code",
   "execution_count": null,
   "metadata": {},
   "outputs": [],
   "source": []
  },
  {
   "cell_type": "code",
   "execution_count": null,
   "metadata": {},
   "outputs": [],
   "source": []
  },
  {
   "cell_type": "code",
   "execution_count": null,
   "metadata": {},
   "outputs": [],
   "source": []
  },
  {
   "cell_type": "code",
   "execution_count": null,
   "metadata": {},
   "outputs": [],
   "source": []
  },
  {
   "cell_type": "code",
   "execution_count": null,
   "metadata": {},
   "outputs": [],
   "source": []
  },
  {
   "cell_type": "code",
   "execution_count": null,
   "metadata": {},
   "outputs": [],
   "source": []
  },
  {
   "cell_type": "code",
   "execution_count": null,
   "metadata": {},
   "outputs": [],
   "source": []
  },
  {
   "cell_type": "code",
   "execution_count": null,
   "metadata": {},
   "outputs": [],
   "source": []
  },
  {
   "cell_type": "code",
   "execution_count": null,
   "metadata": {},
   "outputs": [],
   "source": []
  },
  {
   "cell_type": "code",
   "execution_count": null,
   "metadata": {},
   "outputs": [],
   "source": []
  },
  {
   "cell_type": "code",
   "execution_count": null,
   "metadata": {},
   "outputs": [],
   "source": []
  },
  {
   "cell_type": "code",
   "execution_count": null,
   "metadata": {},
   "outputs": [],
   "source": []
  },
  {
   "cell_type": "code",
   "execution_count": null,
   "metadata": {},
   "outputs": [],
   "source": []
  },
  {
   "cell_type": "code",
   "execution_count": null,
   "metadata": {},
   "outputs": [],
   "source": []
  },
  {
   "cell_type": "code",
   "execution_count": null,
   "metadata": {},
   "outputs": [],
   "source": []
  },
  {
   "cell_type": "code",
   "execution_count": null,
   "metadata": {},
   "outputs": [],
   "source": []
  },
  {
   "cell_type": "code",
   "execution_count": null,
   "metadata": {},
   "outputs": [],
   "source": []
  },
  {
   "cell_type": "code",
   "execution_count": null,
   "metadata": {},
   "outputs": [],
   "source": []
  },
  {
   "cell_type": "code",
   "execution_count": null,
   "metadata": {},
   "outputs": [],
   "source": []
  }
 ],
 "metadata": {
  "kernelspec": {
   "display_name": "Python 3",
   "language": "python",
   "name": "python3"
  },
  "language_info": {
   "codemirror_mode": {
    "name": "ipython",
    "version": 3
   },
   "file_extension": ".py",
   "mimetype": "text/x-python",
   "name": "python",
   "nbconvert_exporter": "python",
   "pygments_lexer": "ipython3",
   "version": "3.7.3"
  }
 },
 "nbformat": 4,
 "nbformat_minor": 2
}
