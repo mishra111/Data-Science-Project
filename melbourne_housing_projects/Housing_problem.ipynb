{
 "cells": [
  {
   "cell_type": "code",
   "execution_count": 1,
   "metadata": {},
   "outputs": [],
   "source": [
    "import pandas as pd\n",
    "import numpy as np\n",
    "import matplotlib.pyplot as plt\n",
    "import seaborn as sns\n",
    "%matplotlib inline"
   ]
  },
  {
   "cell_type": "code",
   "execution_count": 2,
   "metadata": {},
   "outputs": [
    {
     "data": {
      "text/html": [
       "<div>\n",
       "<style scoped>\n",
       "    .dataframe tbody tr th:only-of-type {\n",
       "        vertical-align: middle;\n",
       "    }\n",
       "\n",
       "    .dataframe tbody tr th {\n",
       "        vertical-align: top;\n",
       "    }\n",
       "\n",
       "    .dataframe thead th {\n",
       "        text-align: right;\n",
       "    }\n",
       "</style>\n",
       "<table border=\"1\" class=\"dataframe\">\n",
       "  <thead>\n",
       "    <tr style=\"text-align: right;\">\n",
       "      <th></th>\n",
       "      <th>Rooms</th>\n",
       "      <th>Type</th>\n",
       "      <th>Price</th>\n",
       "      <th>Method</th>\n",
       "      <th>SellerG</th>\n",
       "      <th>Distance</th>\n",
       "      <th>Postcode</th>\n",
       "      <th>Bathroom</th>\n",
       "      <th>Car</th>\n",
       "      <th>Landsize</th>\n",
       "      <th>BuildingArea</th>\n",
       "      <th>YearBuilt</th>\n",
       "      <th>CouncilArea</th>\n",
       "      <th>Longtitude</th>\n",
       "      <th>Regionname</th>\n",
       "      <th>Propertycount</th>\n",
       "    </tr>\n",
       "  </thead>\n",
       "  <tbody>\n",
       "    <tr>\n",
       "      <th>0</th>\n",
       "      <td>2</td>\n",
       "      <td>h</td>\n",
       "      <td>1035000</td>\n",
       "      <td>1</td>\n",
       "      <td>23</td>\n",
       "      <td>2.5</td>\n",
       "      <td>3067</td>\n",
       "      <td>1</td>\n",
       "      <td>0</td>\n",
       "      <td>156</td>\n",
       "      <td>79.0</td>\n",
       "      <td>1900</td>\n",
       "      <td>31</td>\n",
       "      <td>144.9934</td>\n",
       "      <td>Eastern</td>\n",
       "      <td>4019</td>\n",
       "    </tr>\n",
       "    <tr>\n",
       "      <th>1</th>\n",
       "      <td>3</td>\n",
       "      <td>h</td>\n",
       "      <td>1465000</td>\n",
       "      <td>3</td>\n",
       "      <td>23</td>\n",
       "      <td>2.5</td>\n",
       "      <td>3067</td>\n",
       "      <td>2</td>\n",
       "      <td>0</td>\n",
       "      <td>134</td>\n",
       "      <td>150.0</td>\n",
       "      <td>1900</td>\n",
       "      <td>31</td>\n",
       "      <td>144.9944</td>\n",
       "      <td>Eastern</td>\n",
       "      <td>4019</td>\n",
       "    </tr>\n",
       "    <tr>\n",
       "      <th>2</th>\n",
       "      <td>4</td>\n",
       "      <td>h</td>\n",
       "      <td>1600000</td>\n",
       "      <td>4</td>\n",
       "      <td>155</td>\n",
       "      <td>2.5</td>\n",
       "      <td>3067</td>\n",
       "      <td>1</td>\n",
       "      <td>2</td>\n",
       "      <td>120</td>\n",
       "      <td>142.0</td>\n",
       "      <td>2014</td>\n",
       "      <td>31</td>\n",
       "      <td>144.9941</td>\n",
       "      <td>Eastern</td>\n",
       "      <td>4019</td>\n",
       "    </tr>\n",
       "    <tr>\n",
       "      <th>3</th>\n",
       "      <td>3</td>\n",
       "      <td>h</td>\n",
       "      <td>1876000</td>\n",
       "      <td>1</td>\n",
       "      <td>155</td>\n",
       "      <td>2.5</td>\n",
       "      <td>3067</td>\n",
       "      <td>2</td>\n",
       "      <td>0</td>\n",
       "      <td>245</td>\n",
       "      <td>210.0</td>\n",
       "      <td>1910</td>\n",
       "      <td>31</td>\n",
       "      <td>144.9993</td>\n",
       "      <td>Eastern</td>\n",
       "      <td>4019</td>\n",
       "    </tr>\n",
       "    <tr>\n",
       "      <th>4</th>\n",
       "      <td>2</td>\n",
       "      <td>h</td>\n",
       "      <td>1636000</td>\n",
       "      <td>1</td>\n",
       "      <td>155</td>\n",
       "      <td>2.5</td>\n",
       "      <td>3067</td>\n",
       "      <td>1</td>\n",
       "      <td>2</td>\n",
       "      <td>256</td>\n",
       "      <td>107.0</td>\n",
       "      <td>1890</td>\n",
       "      <td>31</td>\n",
       "      <td>144.9954</td>\n",
       "      <td>Eastern</td>\n",
       "      <td>4019</td>\n",
       "    </tr>\n",
       "  </tbody>\n",
       "</table>\n",
       "</div>"
      ],
      "text/plain": [
       "   Rooms Type    Price  Method  SellerG  Distance  Postcode  Bathroom  Car  \\\n",
       "0      2    h  1035000       1       23       2.5      3067         1    0   \n",
       "1      3    h  1465000       3       23       2.5      3067         2    0   \n",
       "2      4    h  1600000       4      155       2.5      3067         1    2   \n",
       "3      3    h  1876000       1      155       2.5      3067         2    0   \n",
       "4      2    h  1636000       1      155       2.5      3067         1    2   \n",
       "\n",
       "   Landsize  BuildingArea  YearBuilt  CouncilArea  Longtitude Regionname  \\\n",
       "0       156          79.0       1900           31    144.9934    Eastern   \n",
       "1       134         150.0       1900           31    144.9944    Eastern   \n",
       "2       120         142.0       2014           31    144.9941    Eastern   \n",
       "3       245         210.0       1910           31    144.9993    Eastern   \n",
       "4       256         107.0       1890           31    144.9954    Eastern   \n",
       "\n",
       "   Propertycount  \n",
       "0           4019  \n",
       "1           4019  \n",
       "2           4019  \n",
       "3           4019  \n",
       "4           4019  "
      ]
     },
     "execution_count": 2,
     "metadata": {},
     "output_type": "execute_result"
    }
   ],
   "source": [
    "df=pd.read_csv(\"E:/melbourne_housing_projects/housing_data1.csv\")\n",
    "df.head()"
   ]
  },
  {
   "cell_type": "code",
   "execution_count": 3,
   "metadata": {},
   "outputs": [
    {
     "data": {
      "text/plain": [
       "Index(['Rooms', 'Type', 'Price', 'Method', 'SellerG', 'Distance', 'Postcode',\n",
       "       'Bathroom', 'Car', 'Landsize', 'BuildingArea', 'YearBuilt',\n",
       "       'CouncilArea', 'Longtitude', 'Regionname', 'Propertycount'],\n",
       "      dtype='object')"
      ]
     },
     "execution_count": 3,
     "metadata": {},
     "output_type": "execute_result"
    }
   ],
   "source": [
    "df.columns"
   ]
  },
  {
   "cell_type": "code",
   "execution_count": 4,
   "metadata": {},
   "outputs": [
    {
     "data": {
      "text/plain": [
       "(6830, 16)"
      ]
     },
     "execution_count": 4,
     "metadata": {},
     "output_type": "execute_result"
    }
   ],
   "source": [
    "df.shape"
   ]
  },
  {
   "cell_type": "code",
   "execution_count": 5,
   "metadata": {},
   "outputs": [
    {
     "name": "stdout",
     "output_type": "stream",
     "text": [
      "<class 'pandas.core.frame.DataFrame'>\n",
      "RangeIndex: 6830 entries, 0 to 6829\n",
      "Data columns (total 16 columns):\n",
      "Rooms            6830 non-null int64\n",
      "Type             6830 non-null object\n",
      "Price            6830 non-null int64\n",
      "Method           6830 non-null int64\n",
      "SellerG          6830 non-null int64\n",
      "Distance         6830 non-null float64\n",
      "Postcode         6830 non-null int64\n",
      "Bathroom         6830 non-null int64\n",
      "Car              6830 non-null int64\n",
      "Landsize         6830 non-null int64\n",
      "BuildingArea     6826 non-null float64\n",
      "YearBuilt        6830 non-null int64\n",
      "CouncilArea      6830 non-null int64\n",
      "Longtitude       6826 non-null float64\n",
      "Regionname       6830 non-null object\n",
      "Propertycount    6830 non-null int64\n",
      "dtypes: float64(3), int64(11), object(2)\n",
      "memory usage: 853.8+ KB\n"
     ]
    }
   ],
   "source": [
    "df.info()\n"
   ]
  },
  {
   "cell_type": "code",
   "execution_count": 6,
   "metadata": {},
   "outputs": [
    {
     "name": "stdout",
     "output_type": "stream",
     "text": [
      "Rooms\n",
      "[2 3 4 1 6 5 8 7]\n",
      "--------------------------------------------------------------------------------\n",
      "Type\n",
      "['h' 'p' 'r']\n",
      "--------------------------------------------------------------------------------\n",
      "Price\n",
      "[1035000 1465000 1600000 ... 1848000  717500  951000]\n",
      "--------------------------------------------------------------------------------\n",
      "Method\n",
      "[1 3 4 0 2]\n",
      "--------------------------------------------------------------------------------\n",
      "SellerG\n",
      "[ 23 155 106 117 111  49 135  28 133  16 204  90 260  32  85 192  41  27\n",
      " 146 127 140  15 239  31 251  51  71 104 195  99  94 194   4 139 221  73\n",
      " 161 229 188 196 150  68  82  46 179 193  10  47 134  74  13 167 255  17\n",
      "  35  72  19 137 160 126   5 222  20 230 257  78 228  87 243  63  43 178\n",
      "  84 261 164 210 244  42 114 185 227 183  14   6 207   2  18  91 267 159\n",
      " 197 190 174 237  95 216 181 170 151 252  33  76 173 176 200  37 153  86\n",
      " 101 105  70 144  57 254 250  92  29 154 242 223  21 109  40 201  48  79\n",
      " 132 163  34 240 156  53 219  83  60 249 152 234  45  67  96 258 136 187\n",
      " 115 264 263  56 165 202 189  88 241 118 102  98 100 172 166 203 128 147\n",
      " 266 211   7 138 199 265 231  93 215 235 191  66 238 212  39 213 232 184\n",
      " 253 125 182   0 236 177  65 217 206  11 233 224 122  30   8 168 247  80\n",
      " 112  26 120 246 124 141 142  58 225  75 119  81 110 130 205 180]\n",
      "--------------------------------------------------------------------------------\n",
      "Distance\n",
      "[ 2.5 13.5  3.3  6.4 13.8 11.1  6.3  5.9 11.  12.2 10.5  6.6  9.7  9.2\n",
      " 13.  13.9 13.1 10.8 11.2 10.7  5.2 11.8 11.7  7.8  9.   3.2 11.4  8.9\n",
      "  8.1  9.3 13.6  3.4  1.6 10.3  8.5  7.7  8.   9.4  5.8  3.5  4.4 12.1\n",
      " 13.7 14.5  4.6  7.9 15.  12.8  4.2  5.6  7.5  7.4  8.7  2.8  4.1  6.9\n",
      " 14.6  8.4  2.3  5.5 11.5 14.7  2.6  9.9  3.8  4.5  8.8  2.1  1.2  6.1\n",
      " 12.6 13.3  6.5 14.9  1.9  5.1  7.   9.1  9.5  1.8  1.5  9.8 12.4 10.6\n",
      "  8.2 10.9 10.4 14.  12.5  5.3 12.7  3.7 23.2 16.1 14.8 17.9  6.7 20.6\n",
      " 23.  24.7 21.8 14.3 25.9 18.  19.6  3.6 36.9 38.  45.9  7.3 45.2 16.\n",
      " 12.3 15.5 25.2 16.3 31.7 17.2 16.2 14.2  6.2 15.4 21.5 12.   2.4 23.5\n",
      " 15.2 35.4 20.5 20.8  5.  10.2 18.4 27.2  3.   5.7  4.3 17.3 13.4 27.\n",
      " 25.   4.  10.1 31.2 16.7  2.  22.2 28.8  7.2 20.4 21.3  5.4 29.8 20.\n",
      " 26.5  2.7  0.7 15.3 16.5  6.8 35.2 34.9  1.3 24.8 12.9 32.3  0.  18.8\n",
      " 19.9 34.7 39.8  8.6 17.4 31.6 22.7 21.1 47.4 27.1 23.3  3.1 25.5 33.3\n",
      " 17.5 27.7 26.1 28.5 34.1 47.3 39.  41.  31.4 35.5 44.2 17.6 16.6 26.\n",
      " 23.8]\n",
      "--------------------------------------------------------------------------------\n",
      "Postcode\n",
      "[3067 3042 3206 3078 3018 3025 3143 3032 3147 3034 3183 3103 3104 3204\n",
      " 3165 3128 3019 3186 3187 3056 3055 3105 3125 3124 3126 3054 3163 3162\n",
      " 3161 3148 3068 3058 3066 3108 3084 3185 3184 3040 3041 3065 3031 3011\n",
      " 3146 3046 3043 3188 3122 3081 3166 3079 3021 3033 3101 3102 3012 3144\n",
      " 3145 3000 3127 3039 3189 3015 3051 3070 3167 3052 3044 3207 3181 3072\n",
      " 3073 3121 3205 3141 3006 3182 3020 3107 3071 3142 3087 3003 3016 3085\n",
      " 3013 3057 3053 3002 3060 3123 3047 3083 3153 3088 3023 3192 3064 3136\n",
      " 3175 3089 3109 3111 3754 3095 3076 3200 3199 3437 3777 3190 3037 3038\n",
      " 3173 3075 3337 3082 3132 3094 3149 3131 3195 3030 3178 3191 3198 3752\n",
      " 3171 3429 3029 3024 3193 3130 3196 3155 3151 3197 3168 3172 3177 3150\n",
      " 3059 3135 3338 3194 3138 3028 3106 3074 3133 3049 3806 3201 3156 3803\n",
      " 3170 3134 3977 3808 3048 3796 3174 3113 3431 3152 3116 3036 3180 3093\n",
      " 3750 3976 3765 3154 3169 3427 3099 3179 3802 3805 3810 3807 3910 3775\n",
      " 3022 3782 3757 3756 3027 3061 3137 3335]\n",
      "--------------------------------------------------------------------------------\n",
      "Bathroom\n",
      "[1 2 3 4 7 5 6 8]\n",
      "--------------------------------------------------------------------------------\n",
      "Car\n",
      "[ 0  2  1  6  5  4  3  7  8  9 10]\n",
      "--------------------------------------------------------------------------------\n",
      "Landsize\n",
      "[ 156  134  120 ... 2027 1670 1475]\n",
      "--------------------------------------------------------------------------------\n",
      "BuildingArea\n",
      "[7.900000e+01 1.500000e+02 1.420000e+02 2.100000e+02 1.070000e+02\n",
      " 7.500000e+01 1.900000e+02 9.400000e+01 9.700000e+01 1.100000e+02\n",
      " 1.050000e+02 7.300000e+01 1.350000e+02 6.000000e+01 8.500000e+01\n",
      " 1.740000e+02 1.280000e+02 1.240000e+02 5.000000e+01 9.100000e+01\n",
      " 8.200000e+01 8.100000e+01 2.250000e+02 1.450000e+02 8.400000e+01\n",
      " 1.340000e+02 1.160000e+02 8.600000e+01 1.860000e+02 9.000000e+01\n",
      " 1.330000e+02 1.300000e+02 1.130000e+02 1.000000e+02 3.090000e+02\n",
      " 1.920000e+02 1.260000e+02 1.010000e+02 1.020000e+02 1.460000e+02\n",
      " 1.980000e+02 1.800000e+02 1.590000e+02 1.220000e+02 1.810000e+02\n",
      " 9.800000e+01 8.300000e+01 1.470000e+02 2.540000e+02 1.230000e+02\n",
      " 1.310000e+02 3.400000e+01 2.070000e+02 6.800000e+01 5.400000e+01\n",
      " 2.630000e+02 2.030000e+02 1.650000e+02 1.400000e+02 1.120000e+02\n",
      " 2.710000e+02 6.100000e+01 2.720000e+02 2.420000e+02 2.680000e+02\n",
      " 1.250000e+02 1.200000e+02 2.200000e+02 9.300000e+01 2.200000e+01\n",
      " 7.600000e+01 5.700000e+01 6.500000e+01 1.410000e+02 7.700000e+01\n",
      " 8.700000e+01 1.360000e+02 3.000000e+00 2.510000e+02 1.170000e+02\n",
      " 1.670000e+02 1.180000e+02 1.690000e+02 1.090000e+02 1.700000e+02\n",
      " 1.570000e+02 1.600000e+02 1.580000e+02 7.000000e+01 1.400000e+01\n",
      " 3.800000e+01 9.600000e+01 2.220000e+02 1.210000e+02 1.630000e+02\n",
      " 5.160000e+02 5.300000e+01 1.060000e+02 7.400000e+01 1.080000e+02\n",
      " 8.000000e+01 8.800000e+01 3.330000e+02 2.850000e+02 6.200000e+01\n",
      " 2.700000e+02 4.350000e+02 9.200000e+01 1.680000e+02 1.480000e+02\n",
      " 1.850000e+02 5.800000e+01 1.390000e+02 2.320000e+02 1.950000e+02\n",
      " 2.040000e+02 2.860000e+02 1.040000e+02 1.270000e+02 1.490000e+02\n",
      " 1.320000e+02 6.900000e+01 1.550000e+02 1.720000e+02 1.770000e+02\n",
      " 1.440000e+02 1.660000e+02 1.750000e+02 7.100000e+01 2.730000e+02\n",
      " 3.990000e+02 3.150000e+02 1.780000e+02 6.180000e+02 1.520000e+02\n",
      " 2.280000e+02 4.440000e+02 3.900000e+02 2.060000e+02 1.110000e+02\n",
      " 1.990000e+02 2.660000e+02 2.740000e+02 2.400000e+02 2.780000e+02\n",
      " 1.640000e+02 2.010000e+02 1.140000e+02 7.920000e+02 2.150000e+02\n",
      " 2.550000e+02 3.170000e+02 1.030000e+02 1.430000e+02 2.810000e+02\n",
      " 3.950000e+02 1.530000e+02 4.900000e+01 5.900000e+01 5.100000e+01\n",
      " 2.180000e+02 1.290000e+02 4.200000e+02 2.260000e+02 4.490000e+02\n",
      " 3.560000e+02 3.490000e+02 7.200000e+01 2.520000e+02 2.000000e+02\n",
      " 3.080000e+02 2.410000e+02 3.360000e+02 2.530000e+02 3.500000e+02\n",
      " 2.910000e+02 1.930000e+02 2.600000e+02 1.150000e+02 1.540000e+02\n",
      " 2.750000e+02 4.770000e+02 1.370000e+02 2.140000e+02 5.200000e+02\n",
      " 3.300000e+02 3.650000e+02 3.550000e+02 2.470000e+02 1.880000e+02\n",
      " 5.290000e+02 2.440000e+02 1.960000e+02 7.200000e+02 5.180000e+02\n",
      " 2.500000e+02 1.510000e+02 2.120000e+02 1.940000e+02 2.050000e+02\n",
      " 1.380000e+02 2.330000e+02 3.530000e+02 4.750000e+02 1.970000e+02\n",
      " 2.450000e+02 2.840000e+02 3.610000e+02 9.500000e+01 1.910000e+02\n",
      " 7.800000e+01 0.000000e+00 1.190000e+02 2.310000e+02 1.760000e+02\n",
      " 1.560000e+02 2.570000e+02 2.560000e+02 3.370000e+02 2.800000e+01\n",
      " 2.650000e+02 9.900000e+01 2.960000e+02 2.190000e+02 2.350000e+02\n",
      " 1.620000e+02 2.160000e+02 2.090000e+02 1.710000e+02 3.410000e+02\n",
      " 3.400000e+02 2.020000e+02 2.620000e+02 3.640000e+02 4.230000e+02\n",
      " 4.000000e+01 3.020000e+02 2.290000e+02 3.050000e+02 3.110000e+02\n",
      " 2.000000e+00 3.190000e+02 2.460000e+02 1.610000e+02 3.040000e+02\n",
      " 2.130000e+02 1.830000e+02 5.940000e+02 1.820000e+02 2.380000e+02\n",
      " 3.460000e+02 6.600000e+01 4.000000e+00 2.880000e+02 2.870000e+02\n",
      " 8.900000e+01 4.500000e+01 1.041000e+03 4.200000e+01 3.210000e+02\n",
      " 3.700000e+01 6.400000e+01 4.300000e+01 1.840000e+02 7.190000e+02\n",
      " 3.000000e+02 3.800000e+02 1.890000e+02 3.480000e+02 5.600000e+01\n",
      " 3.112000e+03 4.070000e+02 2.820000e+02 4.530000e+02 3.630000e+02\n",
      " 2.970000e+02 1.730000e+02 4.270000e+02 4.110000e+02 2.760000e+02\n",
      " 4.800000e+01 6.700000e+01 3.300000e+01 2.370000e+02 2.230000e+02\n",
      " 2.210000e+02 3.130000e+02 6.300000e+01 4.400000e+01 2.770000e+02\n",
      " 2.300000e+02 2.490000e+02 1.870000e+02 1.300000e+01 2.580000e+02\n",
      " 3.200000e+02 4.290000e+02 2.610000e+02 3.060000e+02 3.270000e+02\n",
      " 2.900000e+02 2.360000e+02 3.220000e+02 4.780000e+02 1.561000e+03\n",
      " 4.700000e+01 2.110000e+02 1.800000e+01 2.670000e+02 5.500000e+01\n",
      " 3.780000e+02 2.170000e+02 2.240000e+02 2.270000e+02 4.540000e+02\n",
      " 5.200000e+01 7.000000e+02 2.800000e+02 3.070000e+02 4.600000e+01\n",
      " 3.500000e+01 3.230000e+02 3.140000e+02 3.510000e+02 3.000000e+01\n",
      " 2.480000e+02 2.600000e+01 3.260000e+02 6.070000e+02 3.540000e+02\n",
      " 2.950000e+02 6.720000e+02 1.900000e+01 2.640000e+02 3.250000e+02\n",
      " 4.130000e+02 3.240000e+02 6.130000e+02 3.030000e+02 4.100000e+01\n",
      " 3.730000e+02 3.440000e+02 2.080000e+02 2.920000e+02 3.740000e+02\n",
      " 4.260000e+02 4.000000e+02 3.580000e+02 1.022000e+03 3.420000e+02\n",
      " 2.930000e+02 3.600000e+02 3.100000e+02 3.920000e+02 3.390000e+02\n",
      " 2.430000e+02 2.340000e+02 2.500000e+01 3.900000e+01 3.720000e+02\n",
      " 3.290000e+02 1.790000e+02 1.000000e+00 3.310000e+02 1.000000e+01\n",
      " 2.390000e+02 5.010000e+02 5.060000e+02 4.670000e+02 5.580000e+02\n",
      " 5.570000e+02 3.120000e+02 3.470000e+02 6.500000e+02 6.730000e+02\n",
      " 3.620000e+02 3.350000e+02 3.450000e+02 3.770000e+02 3.320000e+02\n",
      " 3.670000e+02 3.750000e+02 3.160000e+02 3.380000e+02 3.570000e+02\n",
      " 4.050000e+02 3.180000e+02 3.600000e+01 8.080000e+02 7.230000e+01\n",
      " 6.623000e+01 1.015100e+02 6.811000e+01 2.830000e+02 1.968000e+02\n",
      " 1.734500e+02 1.793000e+02 1.343000e+02 4.643000e+02 1.062000e+02\n",
      " 1.129000e+02 1.137600e+02 1.531000e+02 3.200000e+01 8.520000e+01\n",
      " 7.290000e+01 9.950000e+01 1.074000e+02 1.426000e+02 7.750000e+01\n",
      " 8.230000e+01 2.557900e+02 4.240000e+02 1.863600e+02 4.900000e+02\n",
      " 1.472000e+02 6.370000e+01 1.108700e+02 9.384000e+01 1.244500e+02\n",
      " 1.138100e+02 1.067600e+02 2.106800e+02 3.950000e+01 1.052300e+02\n",
      " 1.013700e+02 1.232100e+02 8.650000e+01 3.060000e+01 2.255000e+02\n",
      " 4.095400e+02 1.566000e+02 2.276000e+02 1.046300e+02 1.485000e+02\n",
      " 2.701800e+02 5.330000e+01 9.850000e+01 3.280000e+02 9.430000e+01\n",
      " 2.100000e+01 9.588000e+01 1.057000e+02 2.213000e+02 1.132000e+02\n",
      " 1.867500e+02 5.400000e+02 1.278000e+02 4.100000e+02 1.064000e+02\n",
      " 5.600000e+02 1.680100e+02 3.061900e+02 1.961000e+02 7.890000e+02\n",
      " 1.312700e+02 1.678700e+02 1.839700e+02 1.995000e+02 2.900000e+01\n",
      " 7.545000e+01 1.655000e+02 2.635000e+02 4.310000e+02 1.185400e+02\n",
      " 2.982100e+02 1.695000e+02 4.220000e+01 1.355000e+02 2.667600e+02\n",
      " 2.724000e+02 1.778000e+02 1.394000e+02 1.017600e+02 1.950964e+02\n",
      " 4.700000e+02 1.305200e+02 5.470000e+02 1.110400e+02 6.340000e+01\n",
      " 9.250000e+01 1.159600e+02 1.218400e+02 1.228600e+02 1.142000e+02\n",
      " 3.700000e+02 2.665300e+02 7.854000e+01 8.535000e+01 3.520000e+02\n",
      " 3.910000e+02 1.218000e+02 8.260000e+01 1.364900e+02 6.800000e+02\n",
      " 1.579352e+02 1.268000e+02 1.006000e+02 4.440000e+01 1.515400e+02\n",
      " 1.809000e+02 4.650000e+02 3.660000e+02 6.250000e+02 4.190000e+02\n",
      " 9.450000e+01 1.166500e+02 1.100000e+01 1.346000e+02 1.838400e+02\n",
      " 1.267000e+02 3.340000e+02 1.164000e+02 1.828500e+02 1.095000e+02\n",
      " 1.297000e+02 3.980000e+02 1.484700e+02 5.530000e+02 5.310000e+02\n",
      " 1.829000e+02 1.847500e+02 1.937400e+02 6.850000e+01 1.099800e+02\n",
      " 1.059000e+02 1.017000e+02 1.069000e+02 9.382000e+01 1.326000e+02\n",
      " 1.543000e+02 1.787400e+02 8.830000e+01 8.070000e+01 1.816000e+02\n",
      " 2.700000e+01 1.044000e+02 1.805600e+02 1.235000e+02 2.007100e+02\n",
      " 8.179000e+01 9.340000e+02 1.299200e+02 4.370000e+01 1.136000e+02\n",
      " 6.632000e+01 3.564000e+01 6.160000e+01 3.885000e+02 3.970000e+02\n",
      " 4.950000e+02 4.390000e+02 5.030000e+02 5.120000e+02 2.590000e+02\n",
      " 2.940000e+02 5.750000e+02 6.530000e+02 3.680000e+02 4.500000e+02\n"
     ]
    },
    {
     "name": "stdout",
     "output_type": "stream",
     "text": [
      "          nan]\n",
      "--------------------------------------------------------------------------------\n",
      "YearBuilt\n",
      "[1900 2014 1910 1890 2005 2009 1880 1985 1970 2013 2012 1920 1950 1998\n",
      " 1930 2016 1965 1980 2011 2015 1975 1993 1960 1995 2010 1996 2000 1925\n",
      " 2004 2008 1962 1955 1988 1953 1990 2007 1967 1964 1889 1888 1935 1969\n",
      " 1940 1887 1904 1972 1978 1939 2003 1938 2006 1945 1947 1958 2017 1992\n",
      " 1961 1977 2001 1948 1927 1997 1981 1943 1974 1968 1928 1926 2002 1999\n",
      " 1949 1905 1924 1991 1942 1973 1915 2018 1916 1982 1957 1897 1994 1912\n",
      " 1989 1923 1983 1903 1976 1830 1986 1937 1908 1966 1913 1917 1885 1854\n",
      " 1898 1941 1951 1946 1956 1984 1901 1987 1959 1979 1933 1971 1919 1886\n",
      " 1906 1875 1863 1934 1850 1918 1856 1860 1877 1894 1884 1963 1895 1907\n",
      " 1902 1952 1954 1922 1921 1872 1196 1892 1936 1929]\n",
      "--------------------------------------------------------------------------------\n",
      "CouncilArea\n",
      "[31 21 25  6 10 26  2 20  8 28 16  1 23 15  0 12  3 18 11 13 19 17  9 24\n",
      " 29  7 14 32 30  5  4 -1]\n",
      "--------------------------------------------------------------------------------\n",
      "Longtitude\n",
      "[144.9934  144.9944  144.9941  ... 144.87904 144.89299 144.88449]\n",
      "--------------------------------------------------------------------------------\n",
      "Regionname\n",
      "['Eastern' 'Northan' 'Southern']\n",
      "--------------------------------------------------------------------------------\n",
      "Propertycount\n",
      "[ 4019  3464  3280  2211  5301  5132  4836  6567  3052  2894  4502  2952\n",
      "  5682  7809  6795 10969  4605  3589 10579  6938 11918  7082  4480  5678\n",
      "  8920  3265  3106  7822  2379  6923  5051  3582  2954 11204  3445  4553\n",
      "  9028  1651  4898  8989  9264  1308  2970  5825  6244  3593  7570 10412\n",
      "  8870  1071  2606  5454  2356 11308  2947  2674  3145  5549  1202  5629\n",
      "  5263 10331  2671  3873  4675  8801  4918 17496  2019  2079  6232  2555\n",
      "  5498  2291  6821 11364  2651  3692  2309  7485  8648  7717 14577 21650\n",
      " 14949  3540  2417  5943 14887  8400  1223 13240  3284  3755  4217  6763\n",
      "  5457  5420  7217  2698  2329  2230  6380   802  4380  1369  6543  1543\n",
      "   790  5533   438  6786  3040   588  5070  6482  2890  1554   851  1414\n",
      "  1808  4442  3578  5058  2185   962  2403  3224   821  1123   984   389\n",
      "  1052   608   852  1119   534  1008  5030  1390  4294  1686  9758 15510\n",
      " 11925  8322  4258 10999  4790  7254  6990 10926  2500  7566  3376  8524\n",
      "  3307  4794  5556   768  3656  8459  2878  8279  3600  5812 10529  6871\n",
      "  3891 13366  4973  5087 15542 11667  4497  8077  7969  7412 14042 14092\n",
      " 10160  4242 16166  5262  5366  5713  2887  9704  4048  7719  1989  3906\n",
      "  5837 10894  3940  3533 17055 15321  4864  3794 13830  4718  6065  6162\n",
      "  8280  3650  2547  4407  5833  1793  6202  7955  4181  1442  2474  7392\n",
      "  3598 17093  2866  2867 10175  8060  2985 10788  3285  3728  7113   902\n",
      "  3619  2756  3640  5336  4280   973  4387  2076  2346  4704  3532 11806\n",
      "  1058  1475  1721  3789  1705  2276  2546  4385  2339  2949  1624   915\n",
      "  5811  3296  2940  6388  8256  2493  7785  1690  7630  2727   892  2898\n",
      "  1184  1345  3553  2397  2206  2824  8443  9376 17384  2003  2332  8743\n",
      "  4054  1160  1899  1281  3122  6464  2259  2170  4734  1124  2246  5424\n",
      "   709  3988  1999  1889  4654  1490  1607  7680   394]\n",
      "--------------------------------------------------------------------------------\n"
     ]
    }
   ],
   "source": [
    "#check unique values for all data columns\n",
    "for i in df.columns:\n",
    "    print(i)\n",
    "    print(df[i].unique())\n",
    "    print('----'*20)"
   ]
  },
  {
   "cell_type": "code",
   "execution_count": 7,
   "metadata": {},
   "outputs": [],
   "source": [
    "#List of numeric columns and categorical columns\n",
    "num_cols=list(df.select_dtypes(exclude=['object']))"
   ]
  },
  {
   "cell_type": "code",
   "execution_count": 8,
   "metadata": {},
   "outputs": [
    {
     "data": {
      "text/plain": [
       "['Rooms',\n",
       " 'Price',\n",
       " 'Method',\n",
       " 'SellerG',\n",
       " 'Distance',\n",
       " 'Postcode',\n",
       " 'Bathroom',\n",
       " 'Car',\n",
       " 'Landsize',\n",
       " 'BuildingArea',\n",
       " 'YearBuilt',\n",
       " 'CouncilArea',\n",
       " 'Longtitude',\n",
       " 'Propertycount']"
      ]
     },
     "execution_count": 8,
     "metadata": {},
     "output_type": "execute_result"
    }
   ],
   "source": [
    "num_cols"
   ]
  },
  {
   "cell_type": "code",
   "execution_count": 9,
   "metadata": {},
   "outputs": [
    {
     "data": {
      "text/plain": [
       "['Type', 'Regionname']"
      ]
     },
     "execution_count": 9,
     "metadata": {},
     "output_type": "execute_result"
    }
   ],
   "source": [
    "cat_cols=list(df.select_dtypes(include=['object']))\n",
    "cat_cols"
   ]
  },
  {
   "cell_type": "code",
   "execution_count": 10,
   "metadata": {},
   "outputs": [
    {
     "data": {
      "text/plain": [
       "Rooms            0\n",
       "Type             0\n",
       "Price            0\n",
       "Method           0\n",
       "SellerG          0\n",
       "Distance         0\n",
       "Postcode         0\n",
       "Bathroom         0\n",
       "Car              0\n",
       "Landsize         0\n",
       "BuildingArea     4\n",
       "YearBuilt        0\n",
       "CouncilArea      0\n",
       "Longtitude       4\n",
       "Regionname       0\n",
       "Propertycount    0\n",
       "dtype: int64"
      ]
     },
     "execution_count": 10,
     "metadata": {},
     "output_type": "execute_result"
    }
   ],
   "source": [
    "df.isnull().sum()"
   ]
  },
  {
   "cell_type": "code",
   "execution_count": 11,
   "metadata": {},
   "outputs": [
    {
     "data": {
      "text/plain": [
       "<matplotlib.axes._subplots.AxesSubplot at 0x1fd203049b0>"
      ]
     },
     "execution_count": 11,
     "metadata": {},
     "output_type": "execute_result"
    },
    {
     "data": {
      "image/png": "[encoded data removed]",
      "text/plain": [
       "<Figure size 432x288 with 2 Axes>"
      ]
     },
     "metadata": {
      "needs_background": "light"
     },
     "output_type": "display_data"
    }
   ],
   "source": [
    "sns.heatmap(df.isnull())"
   ]
  },
  {
   "cell_type": "code",
   "execution_count": 12,
   "metadata": {},
   "outputs": [],
   "source": [
    "df['BuildingArea'].fillna(df['BuildingArea'].mean(),inplace=True)\n"
   ]
  },
  {
   "cell_type": "code",
   "execution_count": 13,
   "metadata": {},
   "outputs": [],
   "source": [
    "df['Longtitude'].fillna(df['Longtitude'].mean(),inplace=True)"
   ]
  },
  {
   "cell_type": "code",
   "execution_count": 14,
   "metadata": {},
   "outputs": [],
   "source": [
    "from sklearn.preprocessing import LabelEncoder"
   ]
  },
  {
   "cell_type": "code",
   "execution_count": 15,
   "metadata": {},
   "outputs": [],
   "source": [
    "labelenc=LabelEncoder()\n",
    "df[cat_cols]=df[cat_cols].apply(LabelEncoder().fit_transform)"
   ]
  },
  {
   "cell_type": "code",
   "execution_count": 16,
   "metadata": {},
   "outputs": [
    {
     "data": {
      "text/plain": [
       "<matplotlib.axes._subplots.AxesSubplot at 0x1fd2240d470>"
      ]
     },
     "execution_count": 16,
     "metadata": {},
     "output_type": "execute_result"
    },
    {
     "data": {
      "image/png": "[encoded data removed]",
      "text/plain": [
       "<Figure size 1440x1440 with 2 Axes>"
      ]
     },
     "metadata": {
      "needs_background": "light"
     },
     "output_type": "display_data"
    }
   ],
   "source": [
    "#Correlation between features\n",
    "fig,ax=plt.subplots(figsize=(20,20))\n",
    "sns.heatmap(df.corr(),annot=True,cmap='viridis',linewidths=0.5,ax=ax)"
   ]
  },
  {
   "cell_type": "code",
   "execution_count": 17,
   "metadata": {},
   "outputs": [],
   "source": [
    "from sklearn.model_selection import train_test_split"
   ]
  },
  {
   "cell_type": "code",
   "execution_count": 18,
   "metadata": {},
   "outputs": [],
   "source": [
    "X=df.drop('Price',axis=1)\n",
    "y=df['Price']"
   ]
  },
  {
   "cell_type": "code",
   "execution_count": 19,
   "metadata": {},
   "outputs": [],
   "source": [
    "X_train,X_test,y_train,y_test=train_test_split(X,y,test_size=0.3,random_state=6)"
   ]
  },
  {
   "cell_type": "code",
   "execution_count": 20,
   "metadata": {},
   "outputs": [],
   "source": [
    "from sklearn.linear_model import LinearRegression\n",
    "from sklearn.metrics import r2_score"
   ]
  },
  {
   "cell_type": "code",
   "execution_count": 21,
   "metadata": {},
   "outputs": [
    {
     "name": "stdout",
     "output_type": "stream",
     "text": [
      "0.5776433627148936\n"
     ]
    }
   ],
   "source": [
    "regressor=LinearRegression()\n",
    "regressor.fit(X_train,y_train)\n",
    "y_pred=regressor.predict(X_test)\n",
    "r2=r2_score(y_test,y_pred)\n",
    "print(r2)"
   ]
  },
  {
   "cell_type": "code",
   "execution_count": 22,
   "metadata": {},
   "outputs": [],
   "source": [
    "from sklearn.linear_model import Lasso"
   ]
  },
  {
   "cell_type": "code",
   "execution_count": 36,
   "metadata": {},
   "outputs": [
    {
     "name": "stdout",
     "output_type": "stream",
     "text": [
      "0.5776441485419331\n"
     ]
    }
   ],
   "source": [
    "lasso=Lasso(alpha=2)\n",
    "lasso.fit(X_train,y_train)\n",
    "lasso_pred=lasso.predict(X_test)\n",
    "r2_lasso=r2_score(y_test,lasso_pred)\n",
    "print(r2_lasso)"
   ]
  },
  {
   "cell_type": "code",
   "execution_count": 24,
   "metadata": {},
   "outputs": [],
   "source": [
    "from sklearn.linear_model import Ridge"
   ]
  },
  {
   "cell_type": "code",
   "execution_count": 37,
   "metadata": {},
   "outputs": [
    {
     "name": "stdout",
     "output_type": "stream",
     "text": [
      "0.5776710150271664\n"
     ]
    }
   ],
   "source": [
    "ridge=Ridge(alpha=2)\n",
    "ridge.fit(X_train,y_train)\n",
    "ridge_pred=ridge.predict(X_test)\n",
    "r2_ridge=r2_score(y_test,ridge_pred)\n",
    "print(r2_ridge)"
   ]
  },
  {
   "cell_type": "code",
   "execution_count": 26,
   "metadata": {},
   "outputs": [],
   "source": [
    "from sklearn.model_selection import cross_val_score"
   ]
  },
  {
   "cell_type": "code",
   "execution_count": 27,
   "metadata": {},
   "outputs": [
    {
     "name": "stdout",
     "output_type": "stream",
     "text": [
      "[0.5628921  0.60043293 0.65437821 0.66775947 0.39437383 0.57050675\n",
      " 0.63329113 0.62769002 0.38531145 0.58954127]\n",
      "0.5686177172873903\n"
     ]
    }
   ],
   "source": [
    "regressor=LinearRegression()\n",
    "score=cross_val_score(regressor,X_train,y_train,cv=10)\n",
    "print(score)\n",
    "mean_score=score.mean()\n",
    "print(mean_score)"
   ]
  },
  {
   "cell_type": "code",
   "execution_count": 28,
   "metadata": {},
   "outputs": [],
   "source": [
    "from sklearn.preprocessing import PolynomialFeatures\n",
    "from sklearn.pipeline import make_pipeline"
   ]
  },
  {
   "cell_type": "code",
   "execution_count": 31,
   "metadata": {},
   "outputs": [
    {
     "name": "stdout",
     "output_type": "stream",
     "text": [
      "0.7092941954696736\n"
     ]
    }
   ],
   "source": [
    "model=make_pipeline(PolynomialFeatures(2),LinearRegression())\n",
    "model.fit(X_train,y_train)\n",
    "y_pred=model.predict(X_test)\n",
    "r2_poly=r2_score(y_test,y_pred)\n",
    "print(r2_poly)"
   ]
  },
  {
   "cell_type": "code",
   "execution_count": null,
   "metadata": {},
   "outputs": [],
   "source": []
  },
  {
   "cell_type": "code",
   "execution_count": null,
   "metadata": {},
   "outputs": [],
   "source": []
  },
  {
   "cell_type": "code",
   "execution_count": null,
   "metadata": {},
   "outputs": [],
   "source": []
  },
  {
   "cell_type": "code",
   "execution_count": null,
   "metadata": {},
   "outputs": [],
   "source": []
  },
  {
   "cell_type": "code",
   "execution_count": null,
   "metadata": {},
   "outputs": [],
   "source": []
  },
  {
   "cell_type": "code",
   "execution_count": null,
   "metadata": {},
   "outputs": [],
   "source": []
  },
  {
   "cell_type": "code",
   "execution_count": null,
   "metadata": {},
   "outputs": [],
   "source": []
  },
  {
   "cell_type": "code",
   "execution_count": null,
   "metadata": {},
   "outputs": [],
   "source": []
  },
  {
   "cell_type": "code",
   "execution_count": null,
   "metadata": {},
   "outputs": [],
   "source": []
  },
  {
   "cell_type": "code",
   "execution_count": null,
   "metadata": {},
   "outputs": [],
   "source": []
  },
  {
   "cell_type": "code",
   "execution_count": null,
   "metadata": {},
   "outputs": [],
   "source": []
  },
  {
   "cell_type": "code",
   "execution_count": null,
   "metadata": {},
   "outputs": [],
   "source": []
  },
  {
   "cell_type": "code",
   "execution_count": null,
   "metadata": {},
   "outputs": [],
   "source": []
  },
  {
   "cell_type": "code",
   "execution_count": null,
   "metadata": {},
   "outputs": [],
   "source": []
  },
  {
   "cell_type": "code",
   "execution_count": null,
   "metadata": {},
   "outputs": [],
   "source": []
  },
  {
   "cell_type": "code",
   "execution_count": null,
   "metadata": {},
   "outputs": [],
   "source": []
  },
  {
   "cell_type": "code",
   "execution_count": null,
   "metadata": {},
   "outputs": [],
   "source": []
  },
  {
   "cell_type": "code",
   "execution_count": null,
   "metadata": {},
   "outputs": [],
   "source": []
  },
  {
   "cell_type": "code",
   "execution_count": null,
   "metadata": {},
   "outputs": [],
   "source": []
  },
  {
   "cell_type": "code",
   "execution_count": null,
   "metadata": {},
   "outputs": [],
   "source": []
  },
  {
   "cell_type": "code",
   "execution_count": null,
   "metadata": {},
   "outputs": [],
   "source": []
  },
  {
   "cell_type": "code",
   "execution_count": null,
   "metadata": {},
   "outputs": [],
   "source": []
  },
  {
   "cell_type": "code",
   "execution_count": null,
   "metadata": {},
   "outputs": [],
   "source": []
  },
  {
   "cell_type": "code",
   "execution_count": null,
   "metadata": {},
   "outputs": [],
   "source": []
  },
  {
   "cell_type": "code",
   "execution_count": null,
   "metadata": {},
   "outputs": [],
   "source": []
  },
  {
   "cell_type": "code",
   "execution_count": null,
   "metadata": {},
   "outputs": [],
   "source": []
  },
  {
   "cell_type": "code",
   "execution_count": null,
   "metadata": {},
   "outputs": [],
   "source": []
  },
  {
   "cell_type": "code",
   "execution_count": null,
   "metadata": {},
   "outputs": [],
   "source": []
  },
  {
   "cell_type": "code",
   "execution_count": null,
   "metadata": {},
   "outputs": [],
   "source": []
  },
  {
   "cell_type": "code",
   "execution_count": null,
   "metadata": {},
   "outputs": [],
   "source": []
  },
  {
   "cell_type": "code",
   "execution_count": null,
   "metadata": {},
   "outputs": [],
   "source": []
  },
  {
   "cell_type": "code",
   "execution_count": null,
   "metadata": {},
   "outputs": [],
   "source": []
  },
  {
   "cell_type": "code",
   "execution_count": null,
   "metadata": {},
   "outputs": [],
   "source": []
  },
  {
   "cell_type": "code",
   "execution_count": null,
   "metadata": {},
   "outputs": [],
   "source": []
  },
  {
   "cell_type": "code",
   "execution_count": null,
   "metadata": {},
   "outputs": [],
   "source": []
  },
  {
   "cell_type": "code",
   "execution_count": null,
   "metadata": {},
   "outputs": [],
   "source": []
  },
  {
   "cell_type": "code",
   "execution_count": null,
   "metadata": {},
   "outputs": [],
   "source": []
  },
  {
   "cell_type": "code",
   "execution_count": null,
   "metadata": {},
   "outputs": [],
   "source": []
  },
  {
   "cell_type": "code",
   "execution_count": null,
   "metadata": {},
   "outputs": [],
   "source": []
  },
  {
   "cell_type": "code",
   "execution_count": null,
   "metadata": {},
   "outputs": [],
   "source": []
  },
  {
   "cell_type": "code",
   "execution_count": null,
   "metadata": {},
   "outputs": [],
   "source": []
  },
  {
   "cell_type": "code",
   "execution_count": null,
   "metadata": {},
   "outputs": [],
   "source": []
  },
  {
   "cell_type": "code",
   "execution_count": null,
   "metadata": {},
   "outputs": [],
   "source": []
  },
  {
   "cell_type": "code",
   "execution_count": null,
   "metadata": {},
   "outputs": [],
   "source": []
  },
  {
   "cell_type": "code",
   "execution_count": null,
   "metadata": {},
   "outputs": [],
   "source": []
  },
  {
   "cell_type": "code",
   "execution_count": null,
   "metadata": {},
   "outputs": [],
   "source": []
  },
  {
   "cell_type": "code",
   "execution_count": null,
   "metadata": {},
   "outputs": [],
   "source": []
  }
 ],
 "metadata": {
  "kernelspec": {
   "display_name": "Python 3",
   "language": "python",
   "name": "python3"
  },
  "language_info": {
   "codemirror_mode": {
    "name": "ipython",
    "version": 3
   },
   "file_extension": ".py",
   "mimetype": "text/x-python",
   "name": "python",
   "nbconvert_exporter": "python",
   "pygments_lexer": "ipython3",
   "version": "3.7.1"
  }
 },
 "nbformat": 4,
 "nbformat_minor": 2
}
